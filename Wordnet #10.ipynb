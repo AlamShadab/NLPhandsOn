{
 "cells": [
  {
   "cell_type": "code",
   "execution_count": 10,
   "metadata": {},
   "outputs": [],
   "source": [
    "from nltk.corpus import wordnet\n",
    "syns=wordnet.synsets(\"beautiful\")\n"
   ]
  },
  {
   "cell_type": "code",
   "execution_count": 13,
   "metadata": {},
   "outputs": [
    {
     "name": "stdout",
     "output_type": "stream",
     "text": [
      "<bound method Synset.name of Synset('beautiful.a.01')>\n"
     ]
    }
   ],
   "source": [
    "#synsets\n",
    "print(syns[0].name)"
   ]
  },
  {
   "cell_type": "code",
   "execution_count": 21,
   "metadata": {},
   "outputs": [
    {
     "name": "stdout",
     "output_type": "stream",
     "text": [
      "beautiful\n"
     ]
    }
   ],
   "source": [
    "#just the word\n",
    "print(syns[0].lemmas()[0].name())"
   ]
  },
  {
   "cell_type": "code",
   "execution_count": 11,
   "metadata": {},
   "outputs": [
    {
     "name": "stdout",
     "output_type": "stream",
     "text": [
      "delighting the senses or exciting intellectual or emotional admiration\n"
     ]
    }
   ],
   "source": [
    "#definition\n",
    "print(syns[0].definition())"
   ]
  },
  {
   "cell_type": "code",
   "execution_count": 14,
   "metadata": {},
   "outputs": [
    {
     "name": "stdout",
     "output_type": "stream",
     "text": [
      "['a beautiful child', 'beautiful country', 'a beautiful painting', 'a beautiful theory', 'a beautiful party']\n"
     ]
    }
   ],
   "source": [
    "#example\n",
    "print(syns[0].examples())"
   ]
  },
  {
   "cell_type": "code",
   "execution_count": 19,
   "metadata": {},
   "outputs": [
    {
     "name": "stdout",
     "output_type": "stream",
     "text": [
      "{<bound method Lemma.name of Lemma('dependable.s.02.true')>, <bound method Lemma.name of Lemma('dependable.s.02.dependable')>, <bound method Lemma.name of Lemma('good.s.19.good')>, <bound method Lemma.name of Lemma('honest.a.01.honorable')>, <bound method Lemma.name of Lemma('honest.a.01.honest')>, <bound method Lemma.name of Lemma('dependable.s.02.reliable')>, <bound method Lemma.name of Lemma('honest.s.07.fair')>}\n",
      "{'dishonest'}\n"
     ]
    }
   ],
   "source": [
    "synonyms=[]\n",
    "antonyms=[]\n",
    "for syn in wordnet.synsets(\"honest\"):\n",
    "    for l in syn.lemmas():\n",
    "        synonyms.append(l.name)\n",
    "        if l.antonyms():\n",
    "            antonyms.append(l.antonyms()[0].name())\n",
    "print(set(synonyms))\n",
    "print(set(antonyms))"
   ]
  },
  {
   "cell_type": "code",
   "execution_count": 22,
   "metadata": {},
   "outputs": [
    {
     "name": "stdout",
     "output_type": "stream",
     "text": [
      "0.9090909090909091\n"
     ]
    }
   ],
   "source": [
    "w1=wordnet.synset(\"boat.n.01\")\n",
    "w2=wordnet.synset(\"ship.n.01\")\n",
    "print(w1.wup_similarity(w2))\n"
   ]
  },
  {
   "cell_type": "code",
   "execution_count": 23,
   "metadata": {},
   "outputs": [
    {
     "name": "stdout",
     "output_type": "stream",
     "text": [
      "1.0\n"
     ]
    }
   ],
   "source": [
    "w3=wordnet.synset(\"cat.n.01\")\n",
    "w4=wordnet.synset(\"cat.n.01\")\n",
    "print(w3.wup_similarity(w4))"
   ]
  },
  {
   "cell_type": "code",
   "execution_count": null,
   "metadata": {},
   "outputs": [],
   "source": []
  }
 ],
 "metadata": {
  "kernelspec": {
   "display_name": "Python 3",
   "language": "python",
   "name": "python3"
  },
  "language_info": {
   "codemirror_mode": {
    "name": "ipython",
    "version": 3
   },
   "file_extension": ".py",
   "mimetype": "text/x-python",
   "name": "python",
   "nbconvert_exporter": "python",
   "pygments_lexer": "ipython3",
   "version": "3.7.6"
  }
 },
 "nbformat": 4,
 "nbformat_minor": 4
}
