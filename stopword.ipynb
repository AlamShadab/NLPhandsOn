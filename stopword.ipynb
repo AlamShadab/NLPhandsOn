{
 "cells": [
  {
   "cell_type": "code",
   "execution_count": 1,
   "metadata": {},
   "outputs": [],
   "source": [
    "from nltk.corpus import stopwords\n",
    "from nltk.tokenize import word_tokenize"
   ]
  },
  {
   "cell_type": "code",
   "execution_count": null,
   "metadata": {},
   "outputs": [],
   "source": []
  },
  {
   "cell_type": "code",
   "execution_count": 2,
   "metadata": {},
   "outputs": [
    {
     "name": "stdout",
     "output_type": "stream",
     "text": [
      "{'its', 'now', 'above', 'your', 'it', 'more', 'all', 'they', 'o', 'after', 'a', \"wasn't\", 'shan', 'me', 'other', \"couldn't\", 'an', \"should've\", 'had', 'the', \"don't\", \"hadn't\", 'doing', 'before', 're', 'those', 'on', 'their', 'to', \"haven't\", 'here', 'themselves', 'nor', 'over', 'herself', 'when', 'again', 'if', 'why', 'am', 'off', 'some', 'hasn', 'this', 'only', 'him', 'in', 'you', 'while', 'whom', 'for', 'm', 'did', 'no', 'both', 'can', \"aren't\", 'itself', 'being', 'at', 'should', \"shan't\", 'be', 'shouldn', 'under', 'below', 'his', 'between', 'our', 'yours', 'than', 'about', 'haven', 'wasn', 'himself', 'is', 'he', \"you'd\", 'hers', \"you're\", 'mustn', 'own', 'have', 'any', 'or', 's', 'out', 'so', \"won't\", 'ours', 'then', 'as', 'my', \"mightn't\", 'doesn', 'by', 'been', 'mightn', \"wouldn't\", 'won', 'didn', \"weren't\", 'i', 'are', 'such', \"hasn't\", 'who', 've', 'down', 'through', 'what', 'and', 'them', 'couldn', 'having', 'will', 'during', 'aren', 'few', 'there', 'most', 'these', \"mustn't\", 'once', 'her', 'yourselves', 'just', 'because', 'each', 'that', 'too', \"didn't\", 'isn', 'how', 'has', 'but', \"she's\", 'against', 'were', 'same', \"isn't\", 'ourselves', \"doesn't\", 'y', 'd', 'wouldn', 'we', 'weren', 'not', 'further', 'needn', 'myself', 'yourself', 'she', 'up', 'theirs', \"that'll\", 'does', 'from', \"needn't\", \"you'll\", 'do', 't', 'll', 'very', \"it's\", 'into', 'until', 'hadn', 'with', 'where', 'ma', 'ain', 'which', 'was', \"shouldn't\", 'of', \"you've\", 'don'}\n"
     ]
    }
   ],
   "source": [
    "stop_words=set(stopwords.words(\"english\"))\n",
    "print(stop_words)"
   ]
  },
  {
   "cell_type": "code",
   "execution_count": 3,
   "metadata": {},
   "outputs": [
    {
     "name": "stdout",
     "output_type": "stream",
     "text": [
      "['While', 'you', 'are', 'off', 'home', ',', 'shadab', 'watches', 'a', 'lot', 'of', 'anime']\n"
     ]
    }
   ],
   "source": [
    "example_sentence=\"While you are off home, shadab watches a lot of anime\"\n",
    "words=word_tokenize(example_sentence)\n",
    "print(words)"
   ]
  },
  {
   "cell_type": "code",
   "execution_count": 4,
   "metadata": {},
   "outputs": [
    {
     "name": "stdout",
     "output_type": "stream",
     "text": [
      "['While', 'home', ',', 'shadab', 'watches', 'lot', 'anime']\n"
     ]
    }
   ],
   "source": [
    "filtered_words=[]\n",
    "for w in words:\n",
    "    if w not in stop_words:\n",
    "        filtered_words.append(w)\n",
    "print(filtered_words)"
   ]
  },
  {
   "cell_type": "code",
   "execution_count": null,
   "metadata": {},
   "outputs": [],
   "source": []
  },
  {
   "cell_type": "code",
   "execution_count": null,
   "metadata": {},
   "outputs": [],
   "source": []
  }
 ],
 "metadata": {
  "kernelspec": {
   "display_name": "Python 3",
   "language": "python",
   "name": "python3"
  },
  "language_info": {
   "codemirror_mode": {
    "name": "ipython",
    "version": 3
   },
   "file_extension": ".py",
   "mimetype": "text/x-python",
   "name": "python",
   "nbconvert_exporter": "python",
   "pygments_lexer": "ipython3",
   "version": "3.7.0"
  }
 },
 "nbformat": 4,
 "nbformat_minor": 4
}
