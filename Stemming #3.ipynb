{
 "cells": [
  {
   "cell_type": "code",
   "execution_count": 1,
   "metadata": {},
   "outputs": [],
   "source": [
    "from nltk.stem import PorterStemmer\n",
    "from nltk.tokenize import word_tokenize\n"
   ]
  },
  {
   "cell_type": "code",
   "execution_count": 2,
   "metadata": {},
   "outputs": [
    {
     "name": "stdout",
     "output_type": "stream",
     "text": [
      "hey\n",
      ",\n",
      "hansraj\n",
      "you\n",
      "have\n",
      "been\n",
      "love\n",
      "program\n",
      "with\n",
      "cpp\n",
      "but\n",
      "python\n",
      "seem\n",
      "a\n",
      "new\n",
      "languag\n",
      "howev\n",
      "onc\n",
      "you\n",
      "start\n",
      "python\n",
      "you\n",
      "will\n",
      "love\n",
      "python\n",
      "code\n",
      "and\n",
      "amaz\n",
      "thing\n",
      "it\n",
      "will\n",
      "bring\n",
      "to\n",
      "you\n",
      "and\n",
      "you\n",
      "will\n",
      "be\n",
      "pythonli\n"
     ]
    }
   ],
   "source": [
    "ps=PorterStemmer()\n",
    "text1=\"Hey, Hansraj You have been loving programming with cpp but python seems a new language however once you start pythoning you will love pythoned code and amazing things it will bring to you and you will be pythonly\"\n",
    "words=word_tokenize(text1)\n",
    "for w in words:\n",
    "    print(ps.stem(w))"
   ]
  },
  {
   "cell_type": "code",
   "execution_count": null,
   "metadata": {},
   "outputs": [],
   "source": []
  }
 ],
 "metadata": {
  "kernelspec": {
   "display_name": "Python 3",
   "language": "python",
   "name": "python3"
  },
  "language_info": {
   "codemirror_mode": {
    "name": "ipython",
    "version": 3
   },
   "file_extension": ".py",
   "mimetype": "text/x-python",
   "name": "python",
   "nbconvert_exporter": "python",
   "pygments_lexer": "ipython3",
   "version": "3.7.6"
  }
 },
 "nbformat": 4,
 "nbformat_minor": 4
}
