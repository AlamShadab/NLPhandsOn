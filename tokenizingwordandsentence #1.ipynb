{
 "cells": [
  {
   "cell_type": "code",
   "execution_count": 1,
   "metadata": {},
   "outputs": [
    {
     "name": "stdout",
     "output_type": "stream",
     "text": [
      "['Hey, Mr.Hansraj, how are you?', \"I heard you are trying to get out of your comfort zone and that's awesome\"]\n",
      "['Hey', ',', 'Mr.Hansraj', ',', 'how', 'are', 'you', '?', 'I', 'heard', 'you', 'are', 'trying', 'to', 'get', 'out', 'of', 'your', 'comfort', 'zone', 'and', 'that', \"'s\", 'awesome']\n"
     ]
    }
   ],
   "source": [
    "from nltk.tokenize import sent_tokenize, word_tokenize\n",
    "text1=\"Hey, Mr.Hansraj, how are you? I heard you are trying to get out of your comfort zone and that's awesome \"\n",
    "print(sent_tokenize(text1))\n",
    "print(word_tokenize(text1))"
   ]
  },
  {
   "cell_type": "code",
   "execution_count": 2,
   "metadata": {},
   "outputs": [
    {
     "name": "stdout",
     "output_type": "stream",
     "text": [
      "Hey\n",
      ",\n",
      "Mr.Hansraj\n",
      ",\n",
      "how\n",
      "are\n",
      "you\n",
      "?\n",
      "I\n",
      "heard\n",
      "you\n",
      "are\n",
      "trying\n",
      "to\n",
      "get\n",
      "out\n",
      "of\n",
      "your\n",
      "comfort\n",
      "zone\n",
      "and\n",
      "that\n",
      "'s\n",
      "awesome\n"
     ]
    }
   ],
   "source": [
    "for i in word_tokenize(text1):\n",
    "    print(i)"
   ]
  },
  {
   "cell_type": "code",
   "execution_count": 3,
   "metadata": {},
   "outputs": [
    {
     "name": "stdout",
     "output_type": "stream",
     "text": [
      "Hey, Mr.Hansraj, how are you?\n",
      "I heard you are trying to get out of your comfort zone and that's awesome\n"
     ]
    }
   ],
   "source": [
    "for i in sent_tokenize(text1):\n",
    "    print(i)"
   ]
  },
  {
   "cell_type": "code",
   "execution_count": null,
   "metadata": {},
   "outputs": [],
   "source": []
  }
 ],
 "metadata": {
  "kernelspec": {
   "display_name": "Python 3",
   "language": "python",
   "name": "python3"
  },
  "language_info": {
   "codemirror_mode": {
    "name": "ipython",
    "version": 3
   },
   "file_extension": ".py",
   "mimetype": "text/x-python",
   "name": "python",
   "nbconvert_exporter": "python",
   "pygments_lexer": "ipython3",
   "version": "3.7.6"
  }
 },
 "nbformat": 4,
 "nbformat_minor": 4
}
