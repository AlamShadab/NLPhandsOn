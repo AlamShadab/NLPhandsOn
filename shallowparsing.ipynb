{
 "cells": [
  {
   "cell_type": "code",
   "execution_count": 9,
   "metadata": {},
   "outputs": [],
   "source": [
    "import nltk\n",
    "from nltk.tokenize import sent_tokenize, word_tokenize"
   ]
  },
  {
   "cell_type": "code",
   "execution_count": 10,
   "metadata": {},
   "outputs": [
    {
     "name": "stdout",
     "output_type": "stream",
     "text": [
      "(S\n",
      "  (NP the/DT little/JJ yellow/JJ dog/NN)\n",
      "  barked/VBD\n",
      "  at/IN\n",
      "  (NP the/DT cat/NN))\n"
     ]
    }
   ],
   "source": [
    "sentence= [(\"the\", \"DT\"), (\"little\", \"JJ\"), (\"yellow\", \"JJ\"),(\"dog\", \"NN\"), (\"barked\", \"VBD\"), (\"at\", \"IN\"),  (\"the\", \"DT\"), (\"cat\", \"NN\")]\n",
    "grammar=\"NP: {<DT>?<JJ>*<NN>}\"\n",
    "#productions from CFG for NP and VP\n",
    "c=nltk.RegexpParser(grammar)\n",
    "result=c.parse(sentence)\n",
    "print(result)"
   ]
  },
  {
   "cell_type": "code",
   "execution_count": 11,
   "metadata": {},
   "outputs": [],
   "source": [
    "result.draw()"
   ]
  },
  {
   "cell_type": "code",
   "execution_count": 13,
   "metadata": {},
   "outputs": [],
   "source": [
    "\n",
    "lincolns=\"Four score and seven years ago our fathers brought forth on this continent, a new nation, conceived in Liberty, and dedicated to the proposition that all men are created equal.Now we are engaged in a great civil war, testing whether that nation, or any nation so conceived and so dedicated, can long endure. We are met on a great battle-field of that war. We have come to dedicate a portion of that field, as a final resting place for those who here gave their lives that that nation might live.\"\n",
    "nltk_tokens=nltk.word_tokenize(lincolns)\n",
    "tokens_speech=nltk.pos_tag(nltk_tokens)\n",
    "nouns=\"NP: {<DT>?<JJ>*<NN>}\""
   ]
  },
  {
   "cell_type": "code",
   "execution_count": 18,
   "metadata": {},
   "outputs": [
    {
     "name": "stdout",
     "output_type": "stream",
     "text": [
      "(S\n",
      "  Four/CD\n",
      "  (NP score/NN)\n",
      "  and/CC\n",
      "  seven/CD\n",
      "  years/NNS\n",
      "  ago/RB\n",
      "  our/PRP$\n",
      "  fathers/NNS\n",
      "  brought/VBN\n",
      "  forth/RB\n",
      "  on/IN\n",
      "  (NP this/DT continent/NN)\n",
      "  ,/,\n",
      "  (NP a/DT new/JJ nation/NN)\n",
      "  ,/,\n",
      "  conceived/VBN\n",
      "  in/IN\n",
      "  Liberty/NNP\n",
      "  ,/,\n",
      "  and/CC\n",
      "  dedicated/VBD\n",
      "  to/TO\n",
      "  (NP the/DT proposition/NN)\n",
      "  that/IN\n",
      "  all/DT\n",
      "  men/NNS\n",
      "  are/VBP\n",
      "  created/VBN\n",
      "  equal.Now/IN\n",
      "  we/PRP\n",
      "  are/VBP\n",
      "  engaged/VBN\n",
      "  in/IN\n",
      "  (NP a/DT great/JJ civil/JJ war/NN)\n",
      "  ,/,\n",
      "  testing/VBG\n",
      "  whether/IN\n",
      "  (NP that/DT nation/NN)\n",
      "  ,/,\n",
      "  or/CC\n",
      "  (NP any/DT nation/NN)\n",
      "  so/RB\n",
      "  conceived/JJ\n",
      "  and/CC\n",
      "  so/RB\n",
      "  dedicated/JJ\n",
      "  ,/,\n",
      "  can/MD\n",
      "  long/VB\n",
      "  (NP endure/NN)\n",
      "  ./.\n",
      "  We/PRP\n",
      "  are/VBP\n",
      "  met/VBN\n",
      "  on/IN\n",
      "  (NP a/DT great/JJ battle-field/NN)\n",
      "  of/IN\n",
      "  (NP that/DT war/NN)\n",
      "  ./.\n",
      "  We/PRP\n",
      "  have/VBP\n",
      "  come/VBN\n",
      "  to/TO\n",
      "  dedicate/VB\n",
      "  (NP a/DT portion/NN)\n",
      "  of/IN\n",
      "  (NP that/DT field/NN)\n",
      "  ,/,\n",
      "  as/IN\n",
      "  (NP a/DT final/JJ resting/NN)\n",
      "  (NP place/NN)\n",
      "  for/IN\n",
      "  those/DT\n",
      "  who/WP\n",
      "  here/RB\n",
      "  gave/VBD\n",
      "  their/PRP$\n",
      "  lives/NNS\n",
      "  that/IN\n",
      "  (NP that/DT nation/NN)\n",
      "  might/MD\n",
      "  live/VB\n",
      "  ./.)\n"
     ]
    }
   ],
   "source": [
    "d=nltk.RegexpParser(nouns)\n",
    "nextresult=d.parse(tokens_speech)\n",
    "print(nextresult)"
   ]
  },
  {
   "cell_type": "code",
   "execution_count": null,
   "metadata": {},
   "outputs": [],
   "source": [
    "nextresult.draw()"
   ]
  },
  {
   "cell_type": "code",
   "execution_count": null,
   "metadata": {},
   "outputs": [],
   "source": []
  }
 ],
 "metadata": {
  "kernelspec": {
   "display_name": "Python 3",
   "language": "python",
   "name": "python3"
  },
  "language_info": {
   "codemirror_mode": {
    "name": "ipython",
    "version": 3
   },
   "file_extension": ".py",
   "mimetype": "text/x-python",
   "name": "python",
   "nbconvert_exporter": "python",
   "pygments_lexer": "ipython3",
   "version": "3.7.6"
  }
 },
 "nbformat": 4,
 "nbformat_minor": 4
}
