{
  "nbformat": 4,
  "nbformat_minor": 0,
  "metadata": {
    "colab": {
      "name": "Untitled1.ipynb",
      "provenance": [],
      "collapsed_sections": []
    },
    "kernelspec": {
      "name": "python3",
      "display_name": "Python 3"
    }
  },
  "cells": [
    {
      "cell_type": "code",
      "metadata": {
        "id": "Zr68gtZBj6qg"
      },
      "source": [
        "import spacy"
      ],
      "execution_count": 2,
      "outputs": []
    },
    {
      "cell_type": "code",
      "metadata": {
        "id": "vLSJNinIj8NC"
      },
      "source": [
        "m = spacy.load('en_core_web_sm')"
      ],
      "execution_count": 3,
      "outputs": []
    },
    {
      "cell_type": "code",
      "metadata": {
        "id": "vGYjDv9bj_74"
      },
      "source": [
        "sampletext=\"Biden was raised in Scranton, Pennsylvania, and New Castle County, Delaware. He studied at the University of Delaware before receiving his law degree from Syracuse University.[3] He became a lawyer in 1969 and was elected to the New Castle County Council in 1970. He was elected to the U.S. Senate from Delaware in 1972, becoming the sixth-youngest senator in American history. \""
      ],
      "execution_count": 4,
      "outputs": []
    },
    {
      "cell_type": "code",
      "metadata": {
        "id": "OI2gJb5MkRXW"
      },
      "source": [
        "doc=m(sampletext)"
      ],
      "execution_count": 5,
      "outputs": []
    },
    {
      "cell_type": "code",
      "metadata": {
        "id": "QxxpWFeIkTqy",
        "outputId": "73de1274-b13d-4483-9340-edfdff7a17c5",
        "colab": {
          "base_uri": "https://localhost:8080/",
          "height": 252
        }
      },
      "source": [
        "for ent in doc.ents:\n",
        "  print(ent.text,ent.label_)"
      ],
      "execution_count": 6,
      "outputs": [
        {
          "output_type": "stream",
          "text": [
            "Scranton GPE\n",
            "Pennsylvania GPE\n",
            "New Castle County GPE\n",
            "Delaware GPE\n",
            "the University of Delaware ORG\n",
            "Syracuse GPE\n",
            "1969 DATE\n",
            "the New Castle County Council ORG\n",
            "1970 DATE\n",
            "the U.S. Senate ORG\n",
            "Delaware GPE\n",
            "1972 DATE\n",
            "sixth ORDINAL\n",
            "American NORP\n"
          ],
          "name": "stdout"
        }
      ]
    },
    {
      "cell_type": "code",
      "metadata": {
        "id": "3MjF-HBtkVgl"
      },
      "source": [
        "sampletext2=\"Cultural Heritage is an expression of the ways of living developed by a community and passed on from generation to generation, including customs, practices, places, objects, artistic expressions and values. Cultural Heritage is often expressed as either Intangible or Tangible Cultural Heritage (ICOMOS, 2002).\""
      ],
      "execution_count": 7,
      "outputs": []
    },
    {
      "cell_type": "code",
      "metadata": {
        "id": "VT94r60QlK7v"
      },
      "source": [
        "doc2=m(sampletext2)"
      ],
      "execution_count": 8,
      "outputs": []
    },
    {
      "cell_type": "code",
      "metadata": {
        "id": "ypRrJN6XlRnb",
        "outputId": "aece8b23-9d6f-44ea-8f74-941d49c38a15",
        "colab": {
          "base_uri": "https://localhost:8080/",
          "height": 84
        }
      },
      "source": [
        "for ent in doc2.ents:\n",
        "  print(ent.text,ent.label_)"
      ],
      "execution_count": 9,
      "outputs": [
        {
          "output_type": "stream",
          "text": [
            "Cultural Heritage ORG\n",
            "Cultural Heritage ORG\n",
            "ICOMOS ORG\n",
            "2002 DATE\n"
          ],
          "name": "stdout"
        }
      ]
    },
    {
      "cell_type": "code",
      "metadata": {
        "id": "zoiB7WhxlVrY"
      },
      "source": [
        "text1=\"Himalaya, is a mountain range in Asia separating the plains of the Indian subcontinent from the Tibetan Plateau. The range has many of Earth's highest peaks, including the highest, Mount Everest, at the border between Nepal and China.\""
      ],
      "execution_count": 10,
      "outputs": []
    },
    {
      "cell_type": "code",
      "metadata": {
        "id": "l2JyMTgZluQi"
      },
      "source": [
        "doc1=m(text1)"
      ],
      "execution_count": 11,
      "outputs": []
    },
    {
      "cell_type": "code",
      "metadata": {
        "id": "VMa0_3Vklyn8",
        "outputId": "6659969d-247a-470e-9b25-5d5424e1600d",
        "colab": {
          "base_uri": "https://localhost:8080/",
          "height": 151
        }
      },
      "source": [
        "for ent in doc1.ents:\n",
        "  print(ent.text,ent.label_)"
      ],
      "execution_count": 12,
      "outputs": [
        {
          "output_type": "stream",
          "text": [
            "Himalaya ORG\n",
            "Asia LOC\n",
            "Indian NORP\n",
            "the Tibetan Plateau LOC\n",
            "Earth LOC\n",
            "Mount Everest LOC\n",
            "Nepal GPE\n",
            "China GPE\n"
          ],
          "name": "stdout"
        }
      ]
    },
    {
      "cell_type": "code",
      "metadata": {
        "id": "Y50KuHGDl1OG"
      },
      "source": [
        "text2=\"What time was it 17 hours ago? - The date and time was 10/14/2020 07:54:52 PM 17 hours ago from now.\"\n",
        "doc2=m(text2)"
      ],
      "execution_count": 13,
      "outputs": []
    },
    {
      "cell_type": "code",
      "metadata": {
        "id": "182wNsTlJjcA",
        "outputId": "7f0bea74-181f-4a47-d1e5-70f15d6bd70d",
        "colab": {
          "base_uri": "https://localhost:8080/",
          "height": 67
        }
      },
      "source": [
        "for ent2 in doc2.ents:\n",
        "  print(ent2.text,ent2.label)"
      ],
      "execution_count": 15,
      "outputs": [
        {
          "output_type": "stream",
          "text": [
            "17 hours ago 392\n",
            "07:54:52 384\n",
            "PM 17 hours ago from now 392\n"
          ],
          "name": "stdout"
        }
      ]
    },
    {
      "cell_type": "code",
      "metadata": {
        "id": "tRWYHknPJqZX"
      },
      "source": [
        "//couldn't be clear how did it recognize the entity over here, ma'am?"
      ],
      "execution_count": null,
      "outputs": []
    }
  ]
}