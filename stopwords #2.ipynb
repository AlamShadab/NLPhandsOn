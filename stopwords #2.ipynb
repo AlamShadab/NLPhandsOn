{
 "cells": [
  {
   "cell_type": "code",
   "execution_count": 2,
   "metadata": {},
   "outputs": [],
   "source": [
    "from nltk.corpus import stopwords\n",
    "from nltk.tokenize import word_tokenize"
   ]
  },
  {
   "cell_type": "code",
   "execution_count": 3,
   "metadata": {},
   "outputs": [
    {
     "name": "stdout",
     "output_type": "stream",
     "text": [
      "{'again', \"haven't\", 'weren', 'down', 'do', \"shouldn't\", 'whom', \"won't\", 'just', 'about', 'few', 'are', 'how', 'these', 'wasn', 'been', \"isn't\", 'will', 'other', 'what', 'because', 'once', 'doing', \"couldn't\", 'mightn', 'then', 'some', 'there', 'out', 'between', \"you'll\", 'with', 'was', 'yourselves', 'from', 'i', 'against', 'aren', 'in', 'only', 'yourself', 're', 'they', 'shouldn', 'them', 'if', 'were', 'have', 'no', \"wouldn't\", 'to', 'themselves', 'that', 'did', \"needn't\", 'where', 'the', 'him', 'for', 'on', 'or', 'those', 'ours', 'couldn', 'being', 'further', 'too', 'their', 'having', \"should've\", 'll', \"that'll\", 'but', 'is', 'am', 'which', \"don't\", 'most', 'ma', 'all', 'our', 'hers', 'hadn', 'above', 'now', 'after', 'd', 'an', 'both', 'who', \"mustn't\", 'be', \"wasn't\", \"mightn't\", 'you', 'such', 'm', \"aren't\", 'it', 'should', 'by', 'through', 'needn', \"weren't\", 'theirs', 'herself', 'don', 'didn', 'himself', 'under', 'while', 'until', 'each', \"didn't\", \"you're\", 'into', \"doesn't\", 'he', 'had', 'before', 'over', \"you'd\", 'me', 'not', 'off', 'hasn', 'his', 'yours', 'at', 'same', \"hasn't\", 'own', 'than', 'myself', 'itself', 'y', \"you've\", 'she', 'a', 'nor', 'as', 'this', 'so', \"she's\", 'of', 'won', 'up', 've', 'your', 'more', 'doesn', 'isn', 'when', 'why', 't', 'its', 'has', 'o', 'mustn', \"it's\", 'during', 'here', 'any', \"shan't\", 'ourselves', 'ain', 'shan', 'wouldn', 'below', 'her', \"hadn't\", 'very', 'haven', 'my', 'does', 'and', 's', 'can', 'we'}\n"
     ]
    }
   ],
   "source": [
    "stop_words=set(stopwords.words(\"english\"))\n",
    "print(stop_words)"
   ]
  },
  {
   "cell_type": "code",
   "execution_count": 5,
   "metadata": {},
   "outputs": [
    {
     "name": "stdout",
     "output_type": "stream",
     "text": [
      "['While', 'you', 'are', 'off', 'home', ',', 'Hansraj', 'watches', 'a', 'lot', 'of', 'anime']\n"
     ]
    }
   ],
   "source": [
    "example_sentence=\"While you are off home, Hansraj watches a lot of anime\"\n",
    "words=word_tokenize(example_sentence)\n",
    "print(words)"
   ]
  },
  {
   "cell_type": "code",
   "execution_count": 6,
   "metadata": {},
   "outputs": [
    {
     "name": "stdout",
     "output_type": "stream",
     "text": [
      "['While', 'home', ',', 'Hansraj', 'watches', 'lot', 'anime']\n"
     ]
    }
   ],
   "source": [
    "filtered_words=[]\n",
    "for w in words:\n",
    "    if w not in stop_words:\n",
    "        filtered_words.append(w)\n",
    "print(filtered_words)"
   ]
  },
  {
   "cell_type": "code",
   "execution_count": null,
   "metadata": {},
   "outputs": [],
   "source": []
  }
 ],
 "metadata": {
  "kernelspec": {
   "display_name": "Python 3",
   "language": "python",
   "name": "python3"
  },
  "language_info": {
   "codemirror_mode": {
    "name": "ipython",
    "version": 3
   },
   "file_extension": ".py",
   "mimetype": "text/x-python",
   "name": "python",
   "nbconvert_exporter": "python",
   "pygments_lexer": "ipython3",
   "version": "3.7.6"
  }
 },
 "nbformat": 4,
 "nbformat_minor": 4
}
